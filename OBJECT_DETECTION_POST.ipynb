{
 "cells": [
  {
   "cell_type": "code",
   "execution_count": 1,
   "id": "2a168a19-dfa8-4547-bd41-a91970f365fd",
   "metadata": {},
   "outputs": [],
   "source": [
    "import cv2\n",
    "import numpy as np"
   ]
  },
  {
   "cell_type": "markdown",
   "id": "1b9e353b-af98-4c71-a954-e06de67faf0f",
   "metadata": {},
   "source": [
    "**Load/Read image**"
   ]
  },
  {
   "cell_type": "code",
   "execution_count": 2,
   "id": "56688394-6212-4249-bfd4-4f4074b061f2",
   "metadata": {},
   "outputs": [],
   "source": [
    "img = cv2.imread(r'C:\\Users\\sahur\\Downloads\\Modi_image.jpg',1)\n"
   ]
  },
  {
   "cell_type": "code",
   "execution_count": 3,
   "id": "3f9bea5f-bb1f-45c0-88f8-67799c7a9770",
   "metadata": {},
   "outputs": [
    {
     "name": "stdout",
     "output_type": "stream",
     "text": [
      "[[[255 255 255]\n",
      "  [255 255 255]\n",
      "  [255 255 255]\n",
      "  ...\n",
      "  [255 255 255]\n",
      "  [255 255 255]\n",
      "  [255 255 255]]\n",
      "\n",
      " [[255 255 255]\n",
      "  [255 255 255]\n",
      "  [255 255 255]\n",
      "  ...\n",
      "  [255 255 255]\n",
      "  [255 255 255]\n",
      "  [255 255 255]]\n",
      "\n",
      " [[255 255 255]\n",
      "  [255 255 255]\n",
      "  [255 255 255]\n",
      "  ...\n",
      "  [255 255 255]\n",
      "  [255 255 255]\n",
      "  [255 255 255]]\n",
      "\n",
      " ...\n",
      "\n",
      " [[255 255 255]\n",
      "  [255 255 255]\n",
      "  [255 255 255]\n",
      "  ...\n",
      "  [255 255 255]\n",
      "  [255 255 255]\n",
      "  [255 255 255]]\n",
      "\n",
      " [[255 255 255]\n",
      "  [255 255 255]\n",
      "  [255 255 255]\n",
      "  ...\n",
      "  [255 255 255]\n",
      "  [255 255 255]\n",
      "  [255 255 255]]\n",
      "\n",
      " [[255 255 255]\n",
      "  [255 255 255]\n",
      "  [255 255 255]\n",
      "  ...\n",
      "  [255 255 255]\n",
      "  [255 255 255]\n",
      "  [255 255 255]]]\n"
     ]
    }
   ],
   "source": [
    "print(img)"
   ]
  },
  {
   "cell_type": "code",
   "execution_count": 4,
   "id": "601758ab-1499-484c-9ca9-0cf58610b14f",
   "metadata": {},
   "outputs": [
    {
     "data": {
      "text/plain": [
       "(1358, 1500, 3)"
      ]
     },
     "execution_count": 4,
     "metadata": {},
     "output_type": "execute_result"
    }
   ],
   "source": [
    "img.shape"
   ]
  },
  {
   "cell_type": "markdown",
   "id": "2f64297b-1e99-4f21-8f60-6ed90f8bb027",
   "metadata": {},
   "source": [
    "**Display the image**"
   ]
  },
  {
   "cell_type": "code",
   "execution_count": 18,
   "id": "35dbb595-d51a-4057-b29a-75944b381ad1",
   "metadata": {},
   "outputs": [],
   "source": [
    "img = cv2.imread(r'C:\\Users\\sahur\\Downloads\\Modi_image.jpg')\n",
    "cv2.imshow('PM',img)\n",
    "cv2.waitKey(2000)\n",
    "cv2.destroyAllWindows()"
   ]
  },
  {
   "cell_type": "markdown",
   "id": "97533b71-57ac-465c-b889-501fdfc8491e",
   "metadata": {},
   "source": [
    "**Save image**"
   ]
  },
  {
   "cell_type": "code",
   "execution_count": 6,
   "id": "d160388b-8757-47a6-8f57-29953135a87d",
   "metadata": {},
   "outputs": [
    {
     "data": {
      "text/plain": [
       "True"
      ]
     },
     "execution_count": 6,
     "metadata": {},
     "output_type": "execute_result"
    }
   ],
   "source": [
    "cv2.imwrite('pm_b_w.jpg',img)"
   ]
  },
  {
   "cell_type": "markdown",
   "id": "daa6b813-7ce9-4b3c-9359-c18d0aea380b",
   "metadata": {},
   "source": [
    "**Resize Image**"
   ]
  },
  {
   "cell_type": "code",
   "execution_count": 19,
   "id": "8248f14b-b1fa-4a8f-94f1-e2613d394ae1",
   "metadata": {},
   "outputs": [],
   "source": [
    "img = cv2.imread(r'C:\\Users\\sahur\\Downloads\\Modi_image.jpg')\n",
    "\n",
    "resized_image = cv2.resize(img,(500,500))\n",
    "\n",
    "gray = cv2.cvtColor(resized_image,cv2.COLOR_BGR2GRAY)\n",
    "\n",
    "cv2.imshow('Modi Image',gray)\n",
    "\n",
    "cv2.waitKey()\n",
    "cv2.destroyAllWindows()"
   ]
  },
  {
   "cell_type": "code",
   "execution_count": 8,
   "id": "0d176f0a-acf1-4b6d-bf2a-4ebad03a83d4",
   "metadata": {},
   "outputs": [
    {
     "data": {
      "text/plain": [
       "679.0"
      ]
     },
     "execution_count": 8,
     "metadata": {},
     "output_type": "execute_result"
    }
   ],
   "source": [
    "img.shape[0]*0.5"
   ]
  },
  {
   "cell_type": "code",
   "execution_count": 9,
   "id": "e9d764db-6d3b-4402-9f43-42d5d864aad8",
   "metadata": {},
   "outputs": [
    {
     "data": {
      "text/plain": [
       "750.0"
      ]
     },
     "execution_count": 9,
     "metadata": {},
     "output_type": "execute_result"
    }
   ],
   "source": [
    "img.shape[1]*0.5"
   ]
  },
  {
   "cell_type": "markdown",
   "id": "dd8a228a-31b4-46e3-9358-df4462de61cd",
   "metadata": {},
   "source": [
    "**Face Detection using HAAR Cascade Classifier**"
   ]
  },
  {
   "cell_type": "code",
   "execution_count": 20,
   "id": "7b50fb7e-0ffd-46e3-b416-0e124eaca432",
   "metadata": {},
   "outputs": [],
   "source": [
    "face_classifier = cv2.CascadeClassifier(r'C:\\Users\\sahur\\Downloads\\haarcascade_frontalface_default.xml')\n",
    "\n",
    "# load our image then convert it to grayscale\n",
    "image = cv2.imread(r'C:\\Users\\sahur\\Downloads\\Modi_image.jpg')\n",
    "image = cv2.resize(img,(500,500))\n",
    "gray = cv2.cvtColor(image,cv2.COLOR_BGR2GRAY)\n",
    "\n",
    "#Tuning Cascade Classifier - detectMUltiScale (input image,**Scale Factor**,**Min Neighbours**)\n",
    "faces = face_classifier.detectMultiScale(gray,1.05,5)"
   ]
  },
  {
   "cell_type": "code",
   "execution_count": 21,
   "id": "1290c52a-790c-41f8-80fa-447d3d3fd40b",
   "metadata": {},
   "outputs": [
    {
     "name": "stdout",
     "output_type": "stream",
     "text": [
      "[[205  79 217 217]]\n"
     ]
    }
   ],
   "source": [
    "print(faces)"
   ]
  },
  {
   "cell_type": "code",
   "execution_count": 22,
   "id": "17a19baf-29e0-4cf5-88ee-1de9b57b8bac",
   "metadata": {},
   "outputs": [],
   "source": [
    "if len(faces) == 0:\n",
    "    print('No faces found')\n",
    "\n",
    "# Draw rectangles over each detected face\n",
    "for (x, y, w, h) in faces:\n",
    "    cv2.rectangle(image, (x, y), (x + w, y + h), (0, 255, 100), 1)\n",
    "\n",
    "cv2.imshow('Face Detection', image)\n",
    "cv2.waitKey(0)\n",
    "cv2.destroyAllWindows()\n"
   ]
  },
  {
   "cell_type": "markdown",
   "id": "b00a5059-7cc5-4a80-a6bd-24b082b7ae48",
   "metadata": {},
   "source": [
    "**Face & Eye Detection using HAAR Cascade Classifier in Image**"
   ]
  },
  {
   "cell_type": "code",
   "execution_count": 23,
   "id": "13ba71b9-09f2-48d0-8b0a-e718fede9cca",
   "metadata": {},
   "outputs": [],
   "source": [
    "face_classifier = cv2.CascadeClassifier(r'C:\\Users\\sahur\\Downloads\\haarcascade_frontalface_default.xml')\n",
    "eye_classifier = cv2.CascadeClassifier(r'C:\\Users\\sahur\\Downloads\\haarcascade_eye.xml')\n",
    "\n",
    "img = cv2.imread(r'C:\\Users\\sahur\\Downloads\\Modi_image.jpg')\n",
    "resized_image = cv2.resize(img,(500,500))\n",
    "gray = cv2.cvtColor(resized_image,cv2.COLOR_BGR2GRAY)\n",
    "\n",
    "faces = face_classifier.detectMultiScale(gray,1.3,5)\n",
    "\n",
    "\n",
    "if len(faces)==0:\n",
    "    print('No faces Found')\n",
    "\n",
    "for (x,y,w,h) in faces:\n",
    "    cv2.rectangle(resized_image,(x,y),(x+w,y+h),(255,0,0),2)\n",
    "    roi_gray = gray[y:y+h,x:x+w]\n",
    "    roi_color = resized_image[y:y+h,x:x+w]\n",
    "    eyes = eye_classifier.detectMultiScale(roi_gray)\n",
    "    for (ex,ey,ew,eh) in eyes:\n",
    "        cv2.rectangle(roi_color,(ex,ey),(ex+ew,ey+eh),(0,255,0),2)\n",
    "\n",
    "cv2.imshow('img',resized_image)\n",
    "cv2.waitKey(0)\n",
    "cv2.destroyAllWindows()"
   ]
  },
  {
   "cell_type": "markdown",
   "id": "d3088fc0-4ba0-411c-9ff4-39aaee737614",
   "metadata": {},
   "source": [
    "**Capture a video**"
   ]
  },
  {
   "cell_type": "code",
   "execution_count": 24,
   "id": "dc1c9f3b-1dba-4852-88fd-c9e3c75499e1",
   "metadata": {},
   "outputs": [],
   "source": [
    "import cv2\n",
    "video = cv2.VideoCapture(0) # 0--webcam\n",
    "while True:\n",
    "    check,frame = video.read()\n",
    "    gray = cv2.cvtColor(frame,cv2.COLOR_BGR2GRAY)\n",
    "    cv2.imshow('Video',gray)\n",
    "    if cv2.waitKey(1) == ord('q'):\n",
    "        break\n",
    "\n",
    "video.release()\n",
    "cv2.destroyAllWindows()"
   ]
  },
  {
   "cell_type": "markdown",
   "id": "67f191ed-afa6-407f-96b9-34637d07492d",
   "metadata": {},
   "source": [
    "**Face & Eye Detection using HAAR Cascade Classifiers**"
   ]
  },
  {
   "cell_type": "code",
   "execution_count": 25,
   "id": "cee2197d-3c3e-49e5-b720-6d60330811ff",
   "metadata": {},
   "outputs": [],
   "source": [
    "face_cascade = cv2.CascadeClassifier(r'C:\\Users\\sahur\\Downloads\\haarcascade_frontalface_default.xml')\n",
    "eye_cascade = cv2.CascadeClassifier(r'C:\\Users\\sahur\\Downloads\\haarcascade_eye.xml')\n",
    "\n",
    "def detect(gray,frame):\n",
    "    faces = face_cascade.detectMultiScale(gray,1.3,5)\n",
    "    for (x,y,w,h) in faces:\n",
    "        cv2.rectangle(frame,(x,y),(x+w,y+h),(255,0,0),2)\n",
    "        roi_gray = gray[y:y+h,x:x+w]\n",
    "        roi_color = frame[y:y+h,x:x+w]\n",
    "        eyes = eye_cascade.detectMultiScale(roi_gray,1.1,3)\n",
    "        for (ex,ey,ew,eh) in eyes:\n",
    "            cv2.rectangle(roi_color,(ex,ey),(ex+ew,ey+eh),(0,255,0),2)\n",
    "    return frame\n",
    "\n",
    "video = cv2.VideoCapture(0)\n",
    "\n",
    "while True:\n",
    "    check,frame = video.read()\n",
    "    gray = cv2.cvtColor(frame,cv2.COLOR_BGR2GRAY)\n",
    "    canvas = detect(gray,frame)\n",
    "    cv2.imshow('Video',canvas)\n",
    "    if cv2.waitKey(1)==ord('q'):\n",
    "        break\n",
    "\n",
    "video.release()\n",
    "cv2.destroyAllWindows()  "
   ]
  },
  {
   "cell_type": "markdown",
   "id": "1f48fb86-d052-42a2-b9d0-435d93d394c6",
   "metadata": {},
   "source": [
    "**Pedistrian Detection**"
   ]
  },
  {
   "cell_type": "code",
   "execution_count": 26,
   "id": "d40cbcad-77ca-4012-98d8-dcce5f0e03dc",
   "metadata": {},
   "outputs": [],
   "source": [
    "import cv2 \n",
    "# Create our body Classifier\n",
    "body_classifier = cv2.CascadeClassifier(r'C:\\Users\\sahur\\Downloads\\haarcascade_fullbody.xml')\n",
    "\n",
    "# Initiate video capture for video file\n",
    "cap = cv2.VideoCapture(r'C:\\Users\\sahur\\Downloads\\walking.avi')\n",
    "\n",
    "\n",
    "while cap.isOpened():\n",
    "    # Read first frame\n",
    "    check,frame = cap.read()\n",
    "    gray = cv2.cvtColor(frame,cv2.COLOR_BGR2GRAY)\n",
    "    # pass frame to our body classifier\n",
    "    bodies = body_classifier.detectMultiScale(gray,1.2,3)\n",
    "    # Extract bounding boxes for any bodies identified\n",
    "    for (x,y,w,h) in bodies:\n",
    "        cv2.rectangle(frame,(x,y),(x+w,y+h),(0,255,255),2)\n",
    "        cv2.imshow('Pedestrians',frame)\n",
    "\n",
    "    if cv2.waitKey(1)==ord('q'):\n",
    "        break\n",
    "\n",
    "cap.release()\n",
    "cv2.destroyAllWindows()"
   ]
  },
  {
   "cell_type": "markdown",
   "id": "637115c1-3504-4c31-80d5-77dc1aad872a",
   "metadata": {},
   "source": [
    "**Car Detection**"
   ]
  },
  {
   "cell_type": "code",
   "execution_count": 27,
   "id": "d3eb2364-7573-48c1-88f6-dc84b2f147d7",
   "metadata": {},
   "outputs": [],
   "source": [
    "import time\n",
    "\n",
    "# Create our body classifier\n",
    "car_classifier = cv2.CascadeClassifier(r'C:\\Users\\sahur\\Downloads\\haarcascade_car.xml')\n",
    "\n",
    "# Initiate video capture for video fileq\n",
    "cap = cv2.VideoCapture(r'C:\\Users\\sahur\\Downloads\\cars.avi')\n",
    "\n",
    "\n",
    "while cap.isOpened():\n",
    "    time.sleep(.05)\n",
    "    # Read first frame\n",
    "    check,frame = cap.read()\n",
    "    gray = cv2.cvtColor(frame,cv2.COLOR_BGR2GRAY)\n",
    "        # pass frame to our car classifier\n",
    "    cars = car_classifier.detectMultiScale(gray,1.4,2)\n",
    "\n",
    "    # Extract bounding boxes for any bodies identified\n",
    "    for (x,y,w,h) in cars:\n",
    "        cv2.rectangle(frame,(x,y),(x+w,y+h),(0,255,255),2)\n",
    "        cv2.imshow('Cars',frame)\n",
    "    if cv2.waitKey(1)==ord('q'):\n",
    "        break\n",
    "\n",
    "cap.release()\n",
    "cv2.destroyAllWindows()"
   ]
  },
  {
   "cell_type": "code",
   "execution_count": null,
   "id": "5357bbc8-0ce0-438e-8af3-521879f31de9",
   "metadata": {},
   "outputs": [],
   "source": []
  }
 ],
 "metadata": {
  "kernelspec": {
   "display_name": "Python 3 (ipykernel)",
   "language": "python",
   "name": "python3"
  },
  "language_info": {
   "codemirror_mode": {
    "name": "ipython",
    "version": 3
   },
   "file_extension": ".py",
   "mimetype": "text/x-python",
   "name": "python",
   "nbconvert_exporter": "python",
   "pygments_lexer": "ipython3",
   "version": "3.12.3"
  }
 },
 "nbformat": 4,
 "nbformat_minor": 5
}
